{
  "nbformat": 4,
  "nbformat_minor": 0,
  "metadata": {
    "colab": {
      "provenance": [],
      "collapsed_sections": []
    },
    "kernelspec": {
      "name": "python3",
      "display_name": "Python 3"
    },
    "language_info": {
      "name": "python"
    }
  },
  "cells": [
    {
      "cell_type": "markdown",
      "source": [
        "Harish C (720919104016)\n",
        "\n",
        "**Team** **id** - **PNT2022TMID43579**"
      ],
      "metadata": {
        "id": "KvQTG22EFO8n"
      }
    },
    {
      "cell_type": "markdown",
      "source": [
        "**Exercises**"
      ],
      "metadata": {
        "id": "VNG6-oCj8IeG"
      }
    },
    {
      "cell_type": "markdown",
      "source": [
        "Answer the questions or complete the tasks outlined in bold below, use the specific method described if applicable.\n"
      ],
      "metadata": {
        "id": "vOr1lBRs8egq"
      }
    },
    {
      "cell_type": "code",
      "source": [],
      "metadata": {
        "id": "cFjL25y8A4ZQ"
      },
      "execution_count": null,
      "outputs": []
    },
    {
      "cell_type": "markdown",
      "source": [
        "** What is 7 to the power of 4?**"
      ],
      "metadata": {
        "id": "K-98OWsT8-dS"
      }
    },
    {
      "cell_type": "code",
      "source": [
        "7**4"
      ],
      "metadata": {
        "id": "Ejwp75307QaG",
        "colab": {
          "base_uri": "https://localhost:8080/"
        },
        "outputId": "ec5a0885-fd0f-4794-f40f-c10de50a48d9"
      },
      "execution_count": null,
      "outputs": [
        {
          "output_type": "execute_result",
          "data": {
            "text/plain": [
              "2401"
            ]
          },
          "metadata": {},
          "execution_count": 1
        }
      ]
    },
    {
      "cell_type": "markdown",
      "source": [
        "-----------------------"
      ],
      "metadata": {
        "id": "qMYTkJFeAwtw"
      }
    },
    {
      "cell_type": "markdown",
      "source": [
        "\n",
        "** Split this string:** \n",
        "**into a list**.\n",
        "\n",
        "\n"
      ],
      "metadata": {
        "id": "c7uTaSlL9jai"
      }
    },
    {
      "cell_type": "markdown",
      "source": [
        "*s = \"Hi there Sam!\"*"
      ],
      "metadata": {
        "id": "kRCJRZ019q6a"
      }
    },
    {
      "cell_type": "code",
      "source": [
        "d = ['Hi', 'there', 'dad!' ]"
      ],
      "metadata": {
        "id": "qrnXez8K_rWp"
      },
      "execution_count": null,
      "outputs": []
    },
    {
      "cell_type": "code",
      "source": [
        "print(d)"
      ],
      "metadata": {
        "id": "YH5EHV0L_40i"
      },
      "execution_count": null,
      "outputs": []
    },
    {
      "cell_type": "markdown",
      "source": [
        "Output -> ['Hi', 'there', 'dad!']"
      ],
      "metadata": {
        "id": "j0fNLkG2APi9"
      }
    },
    {
      "cell_type": "markdown",
      "source": [
        "---------------------------"
      ],
      "metadata": {
        "id": "2q6rA8CaA7VY"
      }
    },
    {
      "cell_type": "markdown",
      "source": [
        "** Given the variables:**\n",
        "\n",
        "planet = \"Earth\",\n",
        "diameter = 12742\n",
        "\n",
        "** Use .format() to print the following string: **\n",
        "\n",
        "The diameter of Earth is 12742 kilometers."
      ],
      "metadata": {
        "id": "p1UWclomAiQp"
      }
    },
    {
      "cell_type": "code",
      "source": [
        "planet = \"Earth\"\n",
        "diameter = 12742"
      ],
      "metadata": {
        "id": "jPs0T-anBARp"
      },
      "execution_count": null,
      "outputs": []
    },
    {
      "cell_type": "code",
      "source": [
        "print ('The diameter of {} is {} kilometers.' .format(planet,diameter));"
      ],
      "metadata": {
        "id": "bV2UlKXuBDBh"
      },
      "execution_count": null,
      "outputs": []
    },
    {
      "cell_type": "markdown",
      "source": [
        "Output -> The diameter of Earth is 12742 kilometers."
      ],
      "metadata": {
        "id": "zwDMF8xWBH-6"
      }
    },
    {
      "cell_type": "markdown",
      "source": [
        "----------------------------"
      ],
      "metadata": {
        "id": "Rd3M5QbiBgUZ"
      }
    },
    {
      "cell_type": "markdown",
      "source": [
        "** Given this nested list, use indexing to grab the word \"hello\" **"
      ],
      "metadata": {
        "id": "G67WGW3YBcvg"
      }
    },
    {
      "cell_type": "code",
      "source": [
        "lst = [1,2,[3,4],[5,[100,200,['hello']],23,11],1,7]"
      ],
      "metadata": {
        "id": "Oqiq1cbHBkuw"
      },
      "execution_count": null,
      "outputs": []
    },
    {
      "cell_type": "code",
      "source": [
        "lst = [1,2,[3,4],[5,[100,200,['hello']],23,11],1,7]\n",
        "a = lst[3][1][2];\n",
        "print(a)"
      ],
      "metadata": {
        "id": "SloutcN7BmwC"
      },
      "execution_count": null,
      "outputs": []
    },
    {
      "cell_type": "markdown",
      "source": [
        "Output -> ['hello']"
      ],
      "metadata": {
        "id": "FO4ObltWBtLQ"
      }
    },
    {
      "cell_type": "markdown",
      "source": [
        "--------------------------"
      ],
      "metadata": {
        "id": "9pNINxzeBxg4"
      }
    },
    {
      "cell_type": "markdown",
      "source": [
        "** Given this nest dictionary grab the word \"hello\". Be prepared, this will be annoying/tricky **"
      ],
      "metadata": {
        "id": "yO8QcEPvB_I_"
      }
    },
    {
      "cell_type": "code",
      "source": [
        "d = {'k1':[1,2,3,{'tricky':['oh','man','inception',{'target':[1,2,3,'hello']}]}]}"
      ],
      "metadata": {
        "id": "-G1gIpUpCCYH"
      },
      "execution_count": null,
      "outputs": []
    },
    {
      "cell_type": "code",
      "source": [
        "d = {'k1':[1,2,3,{'tricky':['oh','man','inception',{'target':[1,2,3,'hello']}]}]}\n",
        "print(d['k1'][3]['tricky'][3]['target'][3])"
      ],
      "metadata": {
        "id": "hpO0UN63CEo3"
      },
      "execution_count": null,
      "outputs": []
    },
    {
      "cell_type": "markdown",
      "source": [
        "Output -> hello"
      ],
      "metadata": {
        "id": "NZ3-aCWECJ54"
      }
    },
    {
      "cell_type": "markdown",
      "source": [
        "--------------------------"
      ],
      "metadata": {
        "id": "IOIzVpWuCPPo"
      }
    },
    {
      "cell_type": "markdown",
      "source": [
        "** What is the main difference between a tuple and a list? **"
      ],
      "metadata": {
        "id": "Ij_9h0hoCga_"
      }
    },
    {
      "cell_type": "code",
      "source": [
        "#Tuple are immutable and list are muteable\n",
        "#Tuple are enclosed with() and list are enclosed with[]\n",
        "#Tuples operations are safe and List are less safe\n",
        "#Tuples consumes less memory and list consumes more memory"
      ],
      "metadata": {
        "id": "_LcVi7sJCrts"
      },
      "execution_count": null,
      "outputs": []
    },
    {
      "cell_type": "markdown",
      "source": [
        "---------------------------------------"
      ],
      "metadata": {
        "id": "9Sm2-DwbCvGQ"
      }
    },
    {
      "cell_type": "markdown",
      "source": [
        "** Create a function that grabs the email website domain from a string in the form: **\n",
        "user@domain.com,\n",
        "\n",
        "So for example, passing \"user@domain.com\" would return: domain.com"
      ],
      "metadata": {
        "id": "qxCO5vo9C46n"
      }
    },
    {
      "cell_type": "code",
      "source": [
        "def domainMe(email):\n",
        "  return email.split('@')[-1]"
      ],
      "metadata": {
        "id": "3Atj5MmmDEqf"
      },
      "execution_count": null,
      "outputs": []
    },
    {
      "cell_type": "code",
      "source": [
        "domainMe('user@domain.com')"
      ],
      "metadata": {
        "id": "w7OWvPkmDa9X"
      },
      "execution_count": null,
      "outputs": []
    },
    {
      "cell_type": "markdown",
      "source": [
        "'domain.com'"
      ],
      "metadata": {
        "id": "fKxLZN4MDefp"
      }
    },
    {
      "cell_type": "markdown",
      "source": [
        "-------------------------------------------"
      ],
      "metadata": {
        "id": "-y40LIwnDhA3"
      }
    },
    {
      "cell_type": "markdown",
      "source": [
        "** Create a basic function that returns True if the word 'dog' is contained in the input string. Don't worry about edge cases like a punctuation being attached to the word dog, but do account for capitalization. **"
      ],
      "metadata": {
        "id": "1SD9nHUHDpNH"
      }
    },
    {
      "cell_type": "code",
      "source": [
        "def findDog(st):\n",
        "  if 'dog' in st.lower():\n",
        "    print(\"True\")\n",
        "  else:\n",
        "    print(\"false\")\n",
        "  \n",
        "st = \"Is there is a dog here?\"\n",
        "findDog(st)"
      ],
      "metadata": {
        "id": "J-nmnvAeDtHn"
      },
      "execution_count": null,
      "outputs": []
    },
    {
      "cell_type": "markdown",
      "source": [
        "True"
      ],
      "metadata": {
        "id": "zegG3RydDv0n"
      }
    },
    {
      "cell_type": "markdown",
      "source": [
        "-----------------------------------------"
      ],
      "metadata": {
        "id": "H9m_ze-9Dz1e"
      }
    },
    {
      "cell_type": "markdown",
      "source": [
        "** Create a function that counts the number of times the word \"dog\" occurs in a string. Again ignore edge cases. **"
      ],
      "metadata": {
        "id": "vtDdNeYdD5_-"
      }
    },
    {
      "cell_type": "code",
      "source": [
        "value = 'This dog runs faster than the other dog dude!';\n",
        "\n",
        "def countdog(value):\n",
        "  count=0\n",
        "  for word in value.lower().split():\n",
        "    if word == 'dog' or word == 'dogs':\n",
        "      count = count + 1\n",
        "      print(count)"
      ],
      "metadata": {
        "id": "VwswjlcHD8Fm"
      },
      "execution_count": null,
      "outputs": []
    },
    {
      "cell_type": "code",
      "source": [
        "countdog(value)"
      ],
      "metadata": {
        "id": "INaSRhOoD_x2"
      },
      "execution_count": null,
      "outputs": []
    },
    {
      "cell_type": "markdown",
      "source": [
        "1\n",
        "2"
      ],
      "metadata": {
        "id": "OkCJ40r-EH5-"
      }
    },
    {
      "cell_type": "markdown",
      "source": [
        "-----------------------------------------"
      ],
      "metadata": {
        "id": "oat0QRpSEP4m"
      }
    },
    {
      "cell_type": "markdown",
      "source": [
        "**Problem**\n",
        "\n",
        "You are driving a little too fast, and a police officer stops you. Write a function to return one of 3 possible results: \"No ticket\", \"Small ticket\", or \"Big Ticket\". If your speed is 60 or less, the result is \"No Ticket\". If speed is between 61 and 80 inclusive, the result is \"Small Ticket\". If speed is 81 or more, the result is \"Big Ticket\". Unless it is your birthday (encoded as a boolean value in the parameters of the function) -- on your birthday, your speed can be 5 higher in all cases."
      ],
      "metadata": {
        "id": "15opT0RoEUCW"
      }
    },
    {
      "cell_type": "code",
      "source": [
        "def caught_speeding(speed, is_birthday):\n",
        "    \n",
        "    if is_birthday:\n",
        "        speeding = speed - 5\n",
        "    else:\n",
        "        speeding = speed\n",
        "    \n",
        "    if speeding > 80:\n",
        "        return 'Big Ticket'\n",
        "    elif speeding > 60:\n",
        "        return 'Small Ticket'\n",
        "    else:\n",
        "        return 'No Ticket'"
      ],
      "metadata": {
        "id": "HTd0z0-HEeAi"
      },
      "execution_count": null,
      "outputs": []
    },
    {
      "cell_type": "code",
      "source": [
        "caught_speeding(81,False)"
      ],
      "metadata": {
        "id": "21Ot-20hEi3G"
      },
      "execution_count": null,
      "outputs": []
    },
    {
      "cell_type": "markdown",
      "source": [
        " 'Big Ticket'"
      ],
      "metadata": {
        "id": "NjS5FQkpEm32"
      }
    },
    {
      "cell_type": "code",
      "source": [
        "caught_speeding(81,True)"
      ],
      "metadata": {
        "id": "oEZhv9y-ErpA"
      },
      "execution_count": null,
      "outputs": []
    },
    {
      "cell_type": "markdown",
      "source": [
        "'Small Ticket'"
      ],
      "metadata": {
        "id": "e0XDfxsVEsrX"
      }
    },
    {
      "cell_type": "markdown",
      "source": [
        "----------------------------------"
      ],
      "metadata": {
        "id": "0slmECfTE0r2"
      }
    },
    {
      "cell_type": "markdown",
      "source": [
        "Create an employee list with basic salary values(at least 5 values for 5 employees) and using a for loop retreive each employee salary and calculate total salary expenditure."
      ],
      "metadata": {
        "id": "o5UDtvD_E8D-"
      }
    },
    {
      "cell_type": "code",
      "source": [
        "#we should the data set"
      ],
      "metadata": {
        "id": "wFIcdw83E_mq"
      },
      "execution_count": null,
      "outputs": []
    },
    {
      "cell_type": "markdown",
      "source": [
        "--------------------------------------"
      ],
      "metadata": {
        "id": "KFPpUt5-FDNO"
      }
    },
    {
      "cell_type": "markdown",
      "source": [
        "Create two dictionaries in Python:\n",
        "\n",
        "First one to contain fields as Empid, Empname, Basicpay\n",
        "\n",
        "Second dictionary to contain fields as DeptName, DeptId.\n",
        "\n",
        "Combine both dictionaries."
      ],
      "metadata": {
        "id": "f8nj5PZzFGfG"
      }
    },
    {
      "cell_type": "code",
      "source": [
        "#datasets required"
      ],
      "metadata": {
        "id": "Oie6DpN4FKBu"
      },
      "execution_count": null,
      "outputs": []
    }
  ]
}